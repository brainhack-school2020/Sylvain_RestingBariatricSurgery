{
 "cells": [
  {
   "cell_type": "code",
   "execution_count": 1,
   "metadata": {},
   "outputs": [],
   "source": [
    "import pandas as pd\n",
    "import numpy as np\n",
    "import seaborn as sns\n",
    "import matplotlib.pyplot as plt\n",
    "from matplotlib.lines import Line2D\n",
    "\n"
   ]
  },
  {
   "cell_type": "code",
   "execution_count": 2,
   "metadata": {},
   "outputs": [],
   "source": [
    "bdd = pd.read_spss('BddSPSS3.sav')\n",
    "bdd = bdd.rename(columns={'Groupedechirurgie_C3' : 'Third Surgery Type','IMCmax': 'Maximun','IMCpréC1':'Before S1','IMCnadirC1':'Nadir S1','IMCpréC2':'Before S2', 'IMCnadirC2':'Nadir S2','IMCpréC3':'Before S3', 'IMCnadirC3':'Nadir S3', 'IMCpréC4':'Last News'})"
   ]
  },
  {
   "cell_type": "code",
   "execution_count": null,
   "metadata": {},
   "outputs": [],
   "source": [
    "bdd.head()"
   ]
  },
  {
   "cell_type": "code",
   "execution_count": null,
   "metadata": {},
   "outputs": [],
   "source": [
    "print(list(bdd.columns.tolist()))"
   ]
  },
  {
   "cell_type": "code",
   "execution_count": 3,
   "metadata": {},
   "outputs": [
    {
     "data": {
      "text/html": [
       "<div>\n",
       "<style scoped>\n",
       "    .dataframe tbody tr th:only-of-type {\n",
       "        vertical-align: middle;\n",
       "    }\n",
       "\n",
       "    .dataframe tbody tr th {\n",
       "        vertical-align: top;\n",
       "    }\n",
       "\n",
       "    .dataframe thead th {\n",
       "        text-align: right;\n",
       "    }\n",
       "</style>\n",
       "<table border=\"1\" class=\"dataframe\">\n",
       "  <thead>\n",
       "    <tr style=\"text-align: right;\">\n",
       "      <th></th>\n",
       "      <th>Third Surgery Type</th>\n",
       "      <th>BMI evolution during successive bariatric procedures</th>\n",
       "      <th>Body Mass Index kg.m$^{-2}$</th>\n",
       "    </tr>\n",
       "  </thead>\n",
       "  <tbody>\n",
       "    <tr>\n",
       "      <th>0</th>\n",
       "      <td>Restrictive Surgery</td>\n",
       "      <td>Maximun</td>\n",
       "      <td>46.921383</td>\n",
       "    </tr>\n",
       "    <tr>\n",
       "      <th>1</th>\n",
       "      <td>Roux-Y ByPass</td>\n",
       "      <td>Maximun</td>\n",
       "      <td>45.179103</td>\n",
       "    </tr>\n",
       "    <tr>\n",
       "      <th>2</th>\n",
       "      <td>Roux-Y ByPass</td>\n",
       "      <td>Maximun</td>\n",
       "      <td>43.967784</td>\n",
       "    </tr>\n",
       "    <tr>\n",
       "      <th>3</th>\n",
       "      <td>Roux-Y ByPass</td>\n",
       "      <td>Maximun</td>\n",
       "      <td>45.359905</td>\n",
       "    </tr>\n",
       "    <tr>\n",
       "      <th>4</th>\n",
       "      <td>Roux-Y ByPass</td>\n",
       "      <td>Maximun</td>\n",
       "      <td>55.377556</td>\n",
       "    </tr>\n",
       "  </tbody>\n",
       "</table>\n",
       "</div>"
      ],
      "text/plain": [
       "    Third Surgery Type BMI evolution during successive bariatric procedures  \\\n",
       "0  Restrictive Surgery                                            Maximun     \n",
       "1        Roux-Y ByPass                                            Maximun     \n",
       "2        Roux-Y ByPass                                            Maximun     \n",
       "3        Roux-Y ByPass                                            Maximun     \n",
       "4        Roux-Y ByPass                                            Maximun     \n",
       "\n",
       "   Body Mass Index kg.m$^{-2}$  \n",
       "0                    46.921383  \n",
       "1                    45.179103  \n",
       "2                    43.967784  \n",
       "3                    45.359905  \n",
       "4                    55.377556  "
      ]
     },
     "execution_count": 3,
     "metadata": {},
     "output_type": "execute_result"
    }
   ],
   "source": [
    "BMI = pd.melt(bdd, id_vars=['Third Surgery Type'], value_vars=['Maximun','Before S1','Nadir S1','Before S2', 'Nadir S2','Before S3', 'Nadir S3','Last News'], var_name='BMI evolution during successive bariatric procedures', value_name='Body Mass Index kg.m$^{-2}$')\n",
    "BMI.head()"
   ]
  },
  {
   "cell_type": "code",
   "execution_count": null,
   "metadata": {},
   "outputs": [],
   "source": [
    "\n",
    "sns.lineplot(x='BMI evolution along bariatric procedures', y='Body Mass Index kg.m$^{-2}$', data=BMI,  color = 'm', sort = False, err_style=\"bars\", markers=True, LineWidth = 3)\n",
    "plt.xticks(rotation=70)\n",
    "sns.despine()\n",
    "\n",
    "plt.savefig('EvolutionGlobal.png', orientation = 'landscape', bbox_inches = 'tight',  dpi=900)\n",
    "plt.savefig('EvolutionGlobal.pdf', orientation = 'landscape', bbox_inches = 'tight',  dpi=1200)"
   ]
  },
  {
   "cell_type": "code",
   "execution_count": null,
   "metadata": {},
   "outputs": [],
   "source": [
    "\n",
    "sns.lineplot(x='BMI evolution along bariatric procedures', y='Body Mass Index kg.m$^{-2}$', data=BMI, sort = False, color = 'm', err_style=\"bars\", markers=True, LineWidth = 3)\n",
    "sns.stripplot(x='BMI evolution along bariatric procedures', y='Body Mass Index kg.m$^{-2}$', data=BMI, jitter=True, marker='o', alpha=0.3,color='grey')\n",
    "plt.xticks(rotation=70)\n",
    "sns.despine()\n",
    "\n",
    "plt.savefig('EvolutionGlobal2.png', orientation = 'landscape', bbox_inches = 'tight', dpi=900)\n",
    "plt.savefig('EvolutionGlobal2.pdf', orientation = 'landscape', bbox_inches = 'tight', dpi=1200)"
   ]
  },
  {
   "cell_type": "code",
   "execution_count": null,
   "metadata": {},
   "outputs": [],
   "source": [
    "sns.set_style({'font.family':'serif', 'font.serif':'Times New Roman'})\n",
    "\n",
    "sns.lineplot(x='BMI evolution along bariatric procedures', y='Body Mass Index kg.m$^{-2}$', data=BMI, sort = False, color = 'b', err_style=\"bars\", markers=True, LineWidth = 3)\n",
    "sns.stripplot(x='BMI evolution along bariatric procedures', y='Body Mass Index kg.m$^{-2}$', data=BMI, jitter=True, marker='o', alpha=0.3,color='grey')\n",
    "plt.xticks(rotation=70)\n",
    "sns.despine()\n",
    "\n",
    "plt.savefig('EvolutionGlobal1.tiff', orientation = 'landscape', bbox_inches = 'tight', dpi=1000)\n",
    "plt.savefig('EvolutionGlobal1.pdf', orientation = 'landscape', bbox_inches = 'tight', dpi=1200)"
   ]
  },
  {
   "cell_type": "code",
   "execution_count": null,
   "metadata": {},
   "outputs": [],
   "source": [
    "BMIres = BMI.loc[BMI['Third Surgery Type'] == 'Restrictive Surgery']\n",
    "BMIby = BMI.loc[BMI['Third Surgery Type'] == 'Roux-Y ByPass']\n",
    "BMIdp = BMI.loc[BMI['Third Surgery Type'] == 'DBP or SADI']"
   ]
  },
  {
   "cell_type": "code",
   "execution_count": null,
   "metadata": {},
   "outputs": [],
   "source": [
    "\n",
    "g = sns.stripplot(x='BMI evolution during successive bariatric procedures', y='Body Mass Index kg.m$^{-2}$', data=BMIby, color='c',marker='D', jitter=True, alpha=0.4)\n",
    "sns.stripplot(x='BMI evolution during successive bariatric procedures', y='Body Mass Index kg.m$^{-2}$', data=BMIres, color='r',marker='o', jitter=True, alpha=0.5)\n",
    "sns.stripplot(x='BMI evolution during successive bariatric procedures', y='Body Mass Index kg.m$^{-2}$', data=BMIdp, color='m',marker='^', jitter=True, alpha=0.5)\n",
    "sns.lineplot(x='BMI evolution during successive bariatric procedures', y='Body Mass Index kg.m$^{-2}$', sort = False, data=BMI,  color = 'b', err_style=\"bars\", markers=True, LineWidth = 3)\n",
    "\n",
    "plt.xticks( rotation=70)\n",
    "plt.axhline(35, ls='--', color = 'grey', alpha = 0.5)\n",
    "g.set(ylim=(15,75))\n",
    "\n",
    "custom_lines = [Line2D([], [],marker='o', color='r', label='Restrictive surgery',linestyle='None'),\n",
    "                Line2D([], [],marker='D', color='c', label='Gastric Bypass',linestyle='None'),\n",
    "                Line2D([], [],marker='^', color='m', label='BPD-DS or SADI',linestyle='None')]\n",
    "g.legend(handles=custom_lines, bbox_to_anchor=(0.7, 0.75), ncol=1, title = 'Third Surgery Group', )\n",
    "\n",
    "\n",
    "sns.despine()\n",
    "\n",
    "plt.savefig('EvolutionGlobal_finale.tiff', orientation = 'landscape', bbox_inches = 'tight', dpi=1000)\n",
    "plt.savefig('EvolutionGlobal_finale.pdf', orientation = 'landscape', bbox_inches = 'tight', dpi=1200)"
   ]
  },
  {
   "cell_type": "code",
   "execution_count": null,
   "metadata": {},
   "outputs": [],
   "source": []
  },
  {
   "cell_type": "code",
   "execution_count": null,
   "metadata": {},
   "outputs": [],
   "source": [
    "ColorSurg = ('r','c','m')\n",
    "sns.lineplot(x='Surgery Evolution', y='Body Mass Index kg.m$^{-2}$', data=BMI, sort =False, markers=True, color = 'm')\n",
    "plt.xticks(rotation=70)\n",
    "sns.despine()\n",
    "\n",
    "plt.savefig('EvolutionGlobal4.png', orientation = 'landscape', bbox_inches = 'tight', dpi=900)\n",
    "plt.savefig('EvolutionGlobal4.pdf', orientation = 'landscape', bbox_inches = 'tight', dpi=1200)"
   ]
  },
  {
   "cell_type": "code",
   "execution_count": null,
   "metadata": {},
   "outputs": [],
   "source": [
    "ColorSurg = ('r','c','m')\n",
    "MarkerSurg = ('o','D','^')\n",
    "\n",
    "g = sns.lineplot(x='BMI evolution during successive bariatric procedures', y='Body Mass Index kg.m$^{-2}$', sort = False, hue='Third Surgery Type',style = 'Third Surgery Type' , palette = ColorSurg, dashes = False, data=BMI,  err_style=\"bars\", markers=MarkerSurg)\n",
    "\n",
    "plt.xticks( rotation=70)\n",
    "plt.axhline(35, ls='--', color = 'grey',alpha=0.5)\n",
    "g.set(ylim=(15,75))\n",
    "\n",
    "custom_lines = [Line2D([], [],marker='o', color='r', label='Restrictive surgery',linestyle='None'),\n",
    "                Line2D([], [],marker='D', color='c', label='Gastric Bypass',linestyle='None'),\n",
    "                Line2D([], [],marker='^', color='m', label='BPD-DS or SADI',linestyle='None')]\n",
    "g.legend(handles=custom_lines, bbox_to_anchor=(0.7, 0.75), ncol=1, title = 'Third Surgery Group', )\n",
    "\n",
    "sns.despine()\n",
    "\n",
    "plt.savefig('EvolutionSurgery_finale.tiff', orientation = 'landscape', bbox_inches = 'tight', dpi=1000)\n",
    "plt.savefig('EvolutionSurgery_finale.pdf', orientation = 'landscape', bbox_inches = 'tight', dpi=1200)"
   ]
  },
  {
   "cell_type": "code",
   "execution_count": null,
   "metadata": {},
   "outputs": [],
   "source": [
    "fig, ax =plt.subplots(1,2)\n",
    "\n",
    "\n",
    "\n",
    "g = sns.stripplot(x='BMI evolution along bariatric procedures', y='Body Mass Index kg.m$^{-2}$', data=BMIby, color='c',marker='D', jitter=True, alpha=0.4, ax=ax[0])\n",
    "g = sns.stripplot(x='BMI evolution along bariatric procedures', y='Body Mass Index kg.m$^{-2}$', data=BMIres, color='r',marker='o', jitter=True, alpha=0.5, ax=ax[0])\n",
    "g = sns.stripplot(x='BMI evolution along bariatric procedures', y='Body Mass Index kg.m$^{-2}$', data=BMIdp, color='m',marker='^', jitter=True, alpha=0.5, ax=ax[0])\n",
    "g = sns.lineplot(x='BMI evolution along bariatric procedures', y='Body Mass Index kg.m$^{-2}$', sort = False, data=BMI,  color = 'b', err_style=\"bars\", markers=True, LineWidth = 3, ax=ax[0])\n",
    "\n",
    "g = plt.xticks( rotation=70)\n",
    "g = plt.axhline(35, ls='--', color = 'grey', alpha = 0.5)\n",
    "g.set(ylim=(15,75))\n",
    "\n",
    "custom_lines = [Line2D([], [],marker='o', color='r', label='Restrictive surgery',linestyle='None'),\n",
    "                Line2D([], [],marker='D', color='c', label='Roux-Y ByPass',linestyle='None'),\n",
    "                Line2D([], [],marker='^', color='m', label='BPD-DS or SADI',linestyle='None')]\n",
    "g.legend(handles=custom_lines, bbox_to_anchor=(0.7, 0.75), ncol=1, title = 'Third Surgery Group', )\n",
    "\n",
    "\n",
    "sns.despine()\n",
    "\n",
    "plt.savefig('EvolutionGlobal3.png', orientation = 'landscape', bbox_inches = 'tight', dpi=900)\n",
    "plt.savefig('EvolutionGlobal3.pdf', orientation = 'landscape', bbox_inches = 'tight', dpi=1200)\n",
    "\n"
   ]
  },
  {
   "cell_type": "code",
   "execution_count": null,
   "metadata": {},
   "outputs": [],
   "source": [
    "sns.catplot(x='Surgery Evolution', y='Body Mass Index kg.m$^{-2}$', data=BMI, kind=\"box\", palette = 'pastel', boxprops=dict(alpha=.5))\n",
    "sns.lineplot(x='Surgery Evolution', y='Body Mass Index kg.m$^{-2}$', data=BMI, sort = False, color = 'b', err_style=\"bars\", markers=True, LineWidth = 4)\n",
    "plt.xticks(rotation=70)\n",
    "\n",
    "plt.savefig('EvolutionGlobal5.png', orientation = 'landscape', bbox_inches = 'tight', dpi=900)\n",
    "plt.savefig('EvolutionGlobal5.pdf', orientation = 'landscape', bbox_inches = 'tight', dpi=1200)"
   ]
  },
  {
   "cell_type": "code",
   "execution_count": null,
   "metadata": {},
   "outputs": [],
   "source": [
    "sns.catplot(x='Surgery Evolution', y='Body Mass Index kg.m$^{-2}$', data=BMI, kind=\"violin\", color='white', inner='stick')\n",
    "sns.lineplot(x='Surgery Evolution', y='Body Mass Index kg.m$^{-2}$', data=BMI, sort=False, color = 'b', err_style=\"bars\", markers=True, LineWidth = 4)\n",
    "plt.xticks(rotation=75)\n",
    "\n",
    "plt.savefig('EvolutionGlobal6.png', orientation = 'landscape', bbox_inches = 'tight',  dpi=900)\n",
    "plt.savefig('EvolutionGlobal6.pdf', orientation = 'landscape', bbox_inches = 'tight', dpi=1200)"
   ]
  },
  {
   "cell_type": "code",
   "execution_count": null,
   "metadata": {},
   "outputs": [],
   "source": [
    "sns.catplot(x='Surgery Evolution', y='Body Mass Index kg.m$^{-2}$', data=BMI, kind=\"violin\", palette='pastel', inner='stick', alpha = 0.3)\n",
    "sns.lineplot(x='Surgery Evolution', y='Body Mass Index kg.m$^{-2}$', sort=False, data=BMI,  color = 'b', err_style=\"bars\", markers=True, LineWidth = 4)\n",
    "plt.xticks(rotation=70)\n",
    "\n",
    "plt.savefig('EvolutionGlobal7.png',  orientation = 'landscape', bbox_inches = 'tight', dpi=900)\n",
    "plt.savefig('EvolutionGlobal7.pdf',  orientation = 'landscape', bbox_inches = 'tight', dpi=1200)"
   ]
  },
  {
   "cell_type": "code",
   "execution_count": null,
   "metadata": {},
   "outputs": [],
   "source": [
    "g = sns.catplot(x='Surgery Evolution', y='Body Mass Index kg.m$^{-2}$', data=BMI, kind=\"box\", color = 'white', saturation = 5)\n",
    "sns.lineplot(x='Surgery Evolution', y='Body Mass Index kg.m$^{-2}$', sort=False, data=BMI,  color = 'b', err_style=\"bars\", markers=True, LineWidth = 4)\n",
    "plt.xticks(rotation=70)\n",
    "g.set(ylim=(15,75))\n",
    "\n",
    "plt.savefig('EvolutionGlobal8.png',  orientation = 'landscape', bbox_inches = 'tight',dpi=900)\n",
    "plt.savefig('EvolutionGlobal8.pdf',  orientation = 'landscape', bbox_inches = 'tight',dpi=1200)"
   ]
  },
  {
   "cell_type": "code",
   "execution_count": null,
   "metadata": {},
   "outputs": [],
   "source": [
    "g = sns.catplot(x='Surgery Evolution', y='Body Mass Index kg.m$^{-2}$', data=BMI, kind=\"swarm\", hue = 'Third Surgery Type',alpha = 0.55, palette = 'Set2')\n",
    "sns.lineplot(x='Surgery Evolution', y='Body Mass Index kg.m$^{-2}$', sort = False, data=BMI,  color = 'b', err_style=\"bars\", markers=True, LineWidth = 4, legend = None)\n",
    "plt.xticks(rotation=70)\n",
    "g.set(ylim=(15,75))\n",
    "\n",
    "plt.savefig('EvolutionGlobal9.png', orientation = 'landscape', bbox_inches = 'tight', dpi=900)\n",
    "plt.savefig('EvolutionGlobal9.pdf', orientation = 'landscape', bbox_inches = 'tight', dpi=1200)"
   ]
  },
  {
   "cell_type": "markdown",
   "metadata": {},
   "source": [
    "# Partie Statistique\n"
   ]
  },
  {
   "cell_type": "code",
   "execution_count": null,
   "metadata": {},
   "outputs": [],
   "source": [
    "from scipy import stats\n",
    "from sklearn import preprocessing\n",
    "from sklearn.preprocessing import PowerTransformer\n",
    "pd.set_option('display.max_rows', None)\n",
    "pd.set_option('display.max_columns', None)"
   ]
  },
  {
   "cell_type": "code",
   "execution_count": null,
   "metadata": {},
   "outputs": [],
   "source": [
    "print(list(bdd2.columns.values.tolist()))"
   ]
  },
  {
   "cell_type": "code",
   "execution_count": null,
   "metadata": {},
   "outputs": [],
   "source": [
    "bdd2 = bdd.drop(['Code','PoidspréC4','IMC_Reinholds_PreC4', 'EWL50__PreC4', 'ReiholdsNadir_PreC4','IMC_ReinholdsPreC3','LastNews_Date', 'TimeDN_C3', 'IMC_ReinholdsC3', 'EWL50_C3', 'ReiholdsNadirC3',  'TypeC3', 'ComplicationC3', 'PoidsnadirC3', 'EWL50_PreC3', 'ReiholdsPreC3','IMC_ReinholdsC2', 'EWL50_C2', 'ReiholdsNadirC2', 'IMC_ReinholdsPreC2','MotiféchecC2','DateC2','EWL50_preC2', 'ReiholdsPreC2','IMC_ReinholdsC1', 'EWL50_C1', 'ReiholdsNadirC1', 'TranchesPreC1','PoidspréC2', 'IMCpréC1gt50', 'MotiféchecC1', 'PoidsnadirC1', 'Pdsidéal', 'PdspréC1','Pdsmax', 'Datedenaissance', 'MotiféchecC3','DT2_C3', 'Insuline_C3', 'AnalogueGLP1_C3', 'HbA1c_C3', 'HTA_C3', 'NbTTT_C3', 'SAS_C3', 'AppareillageSAS_C3', 'Dyslipidémie_C3', 'Arthralgies_C3', 'RGO_C3', 'Dyspnéedeffort_C3', 'Stéatosehépatique_C3', 'Massegrasse_C3', 'Tabac_C3', 'OH_C3', 'ATCDpsy_C3', 'TTTpsy_C3', 'DateC3','Third Surgery Type','TypeC2','Sexe','TypeC1','DindoClavienlehautàJ90', 'DindoClavienlehautàJ90_A','DindoClavienlehautàJ90_B','AutresATCD_C3'],1)"
   ]
  },
  {
   "cell_type": "code",
   "execution_count": null,
   "metadata": {},
   "outputs": [],
   "source": [
    "colname = list(bdd2.columns.tolist())"
   ]
  },
  {
   "cell_type": "code",
   "execution_count": null,
   "metadata": {},
   "outputs": [],
   "source": [
    "p = stats.normaltest(bdd2, nan_policy='omit')\n",
    "data_p = {'Variable':colname, 'p_value':p.pvalue}\n",
    "data_p = pd.DataFrame(data=data_p)\n",
    "\n",
    "nonNormal = data_p[data_p['p_value'] < 0.05]\n",
    "\n",
    "data_p.to_csv('NormalityPvalue.csv')\n",
    "\n",
    "print(nonNormal)\n"
   ]
  },
  {
   "cell_type": "code",
   "execution_count": null,
   "metadata": {},
   "outputs": [],
   "source": [
    "l_non = list(nonNormal['Variable'].values.tolist()) \n",
    "features = bdd2[l_non]\n",
    "\n",
    "print(l_non)\n"
   ]
  },
  {
   "cell_type": "code",
   "execution_count": null,
   "metadata": {},
   "outputs": [],
   "source": [
    "#instatiate \n",
    "pt = PowerTransformer(method='yeo-johnson', standardize=False) \n",
    "\n",
    "#Fit the data to the powertransformer\n",
    "skl_yeo = pt.fit(features)\n",
    "\n",
    "#Lets get the Lambdas that were found\n",
    "print (skl_yeo.lambdas_)\n",
    "\n",
    "calc_lambdasYeo = skl_yeo.lambdas_\n",
    "\n",
    "#Transform the data \n",
    "skl_yeo = pt.transform(features)\n",
    "\n",
    "#Pass the transformed data into a new dataframe \n",
    "bdd_yeo = pd.DataFrame(data=skl_yeo, columns=l_non)\n",
    "\n",
    "print('Valeurs non standardisé :')\n",
    "print(bdd_yeo.head())\n"
   ]
  },
  {
   "cell_type": "code",
   "execution_count": null,
   "metadata": {},
   "outputs": [],
   "source": [
    "p2 = stats.normaltest(bdd_yeo, nan_policy='omit')\n",
    "data_p2 = {'Variable':colname, 'p_value':p.pvalue}\n",
    "data_p2 = pd.DataFrame(data=data_p)\n",
    "\n",
    "nonNormal2 = data_p[data_p['p_value'] < 0.05]\n",
    "\n",
    "data_p2.to_csv('NormalityPvalueYeo.csv')\n",
    "\n",
    "print(nonNormal2)"
   ]
  },
  {
   "cell_type": "markdown",
   "metadata": {},
   "source": [
    "# Courbes Reinholds"
   ]
  },
  {
   "cell_type": "code",
   "execution_count": null,
   "metadata": {},
   "outputs": [],
   "source": [
    "BMI2 = pd.melt(bdd, id_vars=['ReiholdsNadirC1'], value_vars=['IMCmax','IMCpréC1','IMCnadirC1','IMCpréC2','IMCnadirC2','IMCpréC3','IMCnadirC3'], var_name='Surgery Evolution', value_name='Body Mass Index kg.m$^{-2}$')\n",
    "BMI.head()"
   ]
  },
  {
   "cell_type": "code",
   "execution_count": null,
   "metadata": {},
   "outputs": [],
   "source": [
    "\n",
    "g = sns.lineplot(x='Surgery Evolution', y='Body Mass Index kg.m$^{-2}$',sort=False, hue='ReiholdsNadirC1',style = 'ReiholdsNadirC1' , palette='Set2', err_style=None,dashes = False, data=BMI2,   markers=True)\n",
    "g.legend(bbox_to_anchor=(0.75, 0.75), ncol=1)\n",
    "\n",
    "plt.xticks(rotation=70)\n",
    "plt.axhline(35, ls='--')\n",
    "sns.despine()\n",
    "\n",
    "plt.savefig('EvolutionSurgeryReinholdC1_1.png', orientation = 'landscape', bbox_inches = 'tight', dpi=900)\n",
    "plt.savefig('EvolutionSurgeryReinholdC1_1.pdf', orientation = 'landscape', bbox_inches = 'tight', dpi=1200)"
   ]
  },
  {
   "cell_type": "code",
   "execution_count": null,
   "metadata": {},
   "outputs": [],
   "source": [
    "\n",
    "g = sns.lineplot(x='Surgery Evolution', y='Body Mass Index kg.m$^{-2}$',sort=False, hue='ReiholdsNadirC1',style = 'ReiholdsNadirC1' , palette='Set2', err_style='bars',dashes = False, data=BMI2,   markers=True)\n",
    "g.legend(bbox_to_anchor=(0.75, 0.75), ncol=1)\n",
    "\n",
    "plt.xticks(rotation=70)\n",
    "plt.axhline(35, ls='--')\n",
    "sns.despine()\n",
    "\n",
    "plt.savefig('EvolutionSurgeryReinholdC1_2.png', orientation = 'landscape', bbox_inches = 'tight', dpi=900)\n",
    "plt.savefig('EvolutionSurgeryReinholdC1_2.pdf', orientation = 'landscape', bbox_inches = 'tight', dpi=1200)"
   ]
  },
  {
   "cell_type": "code",
   "execution_count": null,
   "metadata": {},
   "outputs": [],
   "source": [
    "\n",
    "g = sns.lineplot(x='Surgery Evolution', y='Body Mass Index kg.m$^{-2}$',sort=False, hue='ReiholdsNadirC1',style = 'ReiholdsNadirC1' , palette='Set2', dashes = False, data=BMI2,   markers=True)\n",
    "g.legend(bbox_to_anchor=(0.75, 0.75), ncol=1)\n",
    "\n",
    "plt.xticks(rotation=70)\n",
    "plt.axhline(35, ls='--')\n",
    "sns.despine()\n",
    "\n",
    "plt.savefig('EvolutionSurgeryReinholdC1_3.png', orientation = 'landscape', bbox_inches = 'tight', dpi=900)\n",
    "plt.savefig('EvolutionSurgeryReinholdC1_3.pdf', orientation = 'landscape', bbox_inches = 'tight', dpi=1200)"
   ]
  },
  {
   "cell_type": "code",
   "execution_count": 4,
   "metadata": {},
   "outputs": [],
   "source": [
    "BMI3 = pd.melt(bdd, id_vars=['ReiholdsNadirC2'], value_vars=['Maximun','Before S1','Nadir S1','Before S2', 'Nadir S2','Before S3', 'Nadir S3','Last News' ], var_name='BMI evolution during successive bariatric procedures', value_name='Body Mass Index kg.m$^{-2}$')\n",
    "BMI4 = pd.melt(bdd, id_vars=['ReiholdsNadirC2'], value_vars=['Maximun','Before S1','Nadir S1','Before S2', 'Nadir S2','Before S3', 'Nadir S3'], var_name='BMI evolution along bariatric procedures', value_name='Body Mass Index kg.m$^{-2}$')\n"
   ]
  },
  {
   "cell_type": "code",
   "execution_count": 5,
   "metadata": {},
   "outputs": [
    {
     "ename": "ValueError",
     "evalue": "Could not interpret input 'Surgery Evolution'",
     "output_type": "error",
     "traceback": [
      "\u001b[0;31m---------------------------------------------------------------------------\u001b[0m",
      "\u001b[0;31mValueError\u001b[0m                                Traceback (most recent call last)",
      "\u001b[0;32m<ipython-input-5-de441a2fd2e9>\u001b[0m in \u001b[0;36m<module>\u001b[0;34m\u001b[0m\n\u001b[0;32m----> 1\u001b[0;31m \u001b[0mg\u001b[0m \u001b[0;34m=\u001b[0m \u001b[0msns\u001b[0m\u001b[0;34m.\u001b[0m\u001b[0mlineplot\u001b[0m\u001b[0;34m(\u001b[0m\u001b[0mx\u001b[0m\u001b[0;34m=\u001b[0m\u001b[0;34m'Surgery Evolution'\u001b[0m\u001b[0;34m,\u001b[0m \u001b[0my\u001b[0m\u001b[0;34m=\u001b[0m\u001b[0;34m'Body Mass Index kg.m$^{-2}$'\u001b[0m\u001b[0;34m,\u001b[0m\u001b[0msort\u001b[0m\u001b[0;34m=\u001b[0m\u001b[0;32mFalse\u001b[0m\u001b[0;34m,\u001b[0m \u001b[0mhue\u001b[0m\u001b[0;34m=\u001b[0m\u001b[0;34m'ReiholdsNadirC2'\u001b[0m\u001b[0;34m,\u001b[0m\u001b[0mstyle\u001b[0m \u001b[0;34m=\u001b[0m \u001b[0;34m'ReiholdsNadirC2'\u001b[0m \u001b[0;34m,\u001b[0m \u001b[0mpalette\u001b[0m\u001b[0;34m=\u001b[0m\u001b[0;34m'Set2'\u001b[0m\u001b[0;34m,\u001b[0m \u001b[0merr_style\u001b[0m\u001b[0;34m=\u001b[0m\u001b[0;32mNone\u001b[0m\u001b[0;34m,\u001b[0m\u001b[0mdashes\u001b[0m \u001b[0;34m=\u001b[0m \u001b[0;32mFalse\u001b[0m\u001b[0;34m,\u001b[0m \u001b[0mdata\u001b[0m\u001b[0;34m=\u001b[0m\u001b[0mBMI3\u001b[0m\u001b[0;34m,\u001b[0m   \u001b[0mmarkers\u001b[0m\u001b[0;34m=\u001b[0m\u001b[0;32mTrue\u001b[0m\u001b[0;34m)\u001b[0m\u001b[0;34m\u001b[0m\u001b[0;34m\u001b[0m\u001b[0m\n\u001b[0m\u001b[1;32m      2\u001b[0m \u001b[0mg\u001b[0m\u001b[0;34m.\u001b[0m\u001b[0mlegend\u001b[0m\u001b[0;34m(\u001b[0m\u001b[0mbbox_to_anchor\u001b[0m\u001b[0;34m=\u001b[0m\u001b[0;34m(\u001b[0m\u001b[0;36m0.75\u001b[0m\u001b[0;34m,\u001b[0m \u001b[0;36m0.75\u001b[0m\u001b[0;34m)\u001b[0m\u001b[0;34m,\u001b[0m \u001b[0mncol\u001b[0m\u001b[0;34m=\u001b[0m\u001b[0;36m1\u001b[0m\u001b[0;34m)\u001b[0m\u001b[0;34m\u001b[0m\u001b[0;34m\u001b[0m\u001b[0m\n\u001b[1;32m      3\u001b[0m \u001b[0;34m\u001b[0m\u001b[0m\n\u001b[1;32m      4\u001b[0m \u001b[0mplt\u001b[0m\u001b[0;34m.\u001b[0m\u001b[0mxticks\u001b[0m\u001b[0;34m(\u001b[0m\u001b[0mrotation\u001b[0m\u001b[0;34m=\u001b[0m\u001b[0;36m70\u001b[0m\u001b[0;34m)\u001b[0m\u001b[0;34m\u001b[0m\u001b[0;34m\u001b[0m\u001b[0m\n\u001b[1;32m      5\u001b[0m \u001b[0mplt\u001b[0m\u001b[0;34m.\u001b[0m\u001b[0maxhline\u001b[0m\u001b[0;34m(\u001b[0m\u001b[0;36m35\u001b[0m\u001b[0;34m,\u001b[0m \u001b[0mls\u001b[0m\u001b[0;34m=\u001b[0m\u001b[0;34m'--'\u001b[0m\u001b[0;34m)\u001b[0m\u001b[0;34m\u001b[0m\u001b[0;34m\u001b[0m\u001b[0m\n",
      "\u001b[0;32m/opt/anaconda3/lib/python3.7/site-packages/seaborn/relational.py\u001b[0m in \u001b[0;36mlineplot\u001b[0;34m(x, y, hue, size, style, data, palette, hue_order, hue_norm, sizes, size_order, size_norm, dashes, markers, style_order, units, estimator, ci, n_boot, seed, sort, err_style, err_kws, legend, ax, **kwargs)\u001b[0m\n\u001b[1;32m   1129\u001b[0m         \u001b[0mdashes\u001b[0m\u001b[0;34m=\u001b[0m\u001b[0mdashes\u001b[0m\u001b[0;34m,\u001b[0m \u001b[0mmarkers\u001b[0m\u001b[0;34m=\u001b[0m\u001b[0mmarkers\u001b[0m\u001b[0;34m,\u001b[0m \u001b[0mstyle_order\u001b[0m\u001b[0;34m=\u001b[0m\u001b[0mstyle_order\u001b[0m\u001b[0;34m,\u001b[0m\u001b[0;34m\u001b[0m\u001b[0;34m\u001b[0m\u001b[0m\n\u001b[1;32m   1130\u001b[0m         \u001b[0munits\u001b[0m\u001b[0;34m=\u001b[0m\u001b[0munits\u001b[0m\u001b[0;34m,\u001b[0m \u001b[0mestimator\u001b[0m\u001b[0;34m=\u001b[0m\u001b[0mestimator\u001b[0m\u001b[0;34m,\u001b[0m \u001b[0mci\u001b[0m\u001b[0;34m=\u001b[0m\u001b[0mci\u001b[0m\u001b[0;34m,\u001b[0m \u001b[0mn_boot\u001b[0m\u001b[0;34m=\u001b[0m\u001b[0mn_boot\u001b[0m\u001b[0;34m,\u001b[0m \u001b[0mseed\u001b[0m\u001b[0;34m=\u001b[0m\u001b[0mseed\u001b[0m\u001b[0;34m,\u001b[0m\u001b[0;34m\u001b[0m\u001b[0;34m\u001b[0m\u001b[0m\n\u001b[0;32m-> 1131\u001b[0;31m         \u001b[0msort\u001b[0m\u001b[0;34m=\u001b[0m\u001b[0msort\u001b[0m\u001b[0;34m,\u001b[0m \u001b[0merr_style\u001b[0m\u001b[0;34m=\u001b[0m\u001b[0merr_style\u001b[0m\u001b[0;34m,\u001b[0m \u001b[0merr_kws\u001b[0m\u001b[0;34m=\u001b[0m\u001b[0merr_kws\u001b[0m\u001b[0;34m,\u001b[0m \u001b[0mlegend\u001b[0m\u001b[0;34m=\u001b[0m\u001b[0mlegend\u001b[0m\u001b[0;34m,\u001b[0m\u001b[0;34m\u001b[0m\u001b[0;34m\u001b[0m\u001b[0m\n\u001b[0m\u001b[1;32m   1132\u001b[0m     )\n\u001b[1;32m   1133\u001b[0m \u001b[0;34m\u001b[0m\u001b[0m\n",
      "\u001b[0;32m/opt/anaconda3/lib/python3.7/site-packages/seaborn/relational.py\u001b[0m in \u001b[0;36m__init__\u001b[0;34m(self, x, y, hue, size, style, data, palette, hue_order, hue_norm, sizes, size_order, size_norm, dashes, markers, style_order, units, estimator, ci, n_boot, seed, sort, err_style, err_kws, legend)\u001b[0m\n\u001b[1;32m    698\u001b[0m \u001b[0;34m\u001b[0m\u001b[0m\n\u001b[1;32m    699\u001b[0m         plot_data = self.establish_variables(\n\u001b[0;32m--> 700\u001b[0;31m             \u001b[0mx\u001b[0m\u001b[0;34m,\u001b[0m \u001b[0my\u001b[0m\u001b[0;34m,\u001b[0m \u001b[0mhue\u001b[0m\u001b[0;34m,\u001b[0m \u001b[0msize\u001b[0m\u001b[0;34m,\u001b[0m \u001b[0mstyle\u001b[0m\u001b[0;34m,\u001b[0m \u001b[0munits\u001b[0m\u001b[0;34m,\u001b[0m \u001b[0mdata\u001b[0m\u001b[0;34m\u001b[0m\u001b[0;34m\u001b[0m\u001b[0m\n\u001b[0m\u001b[1;32m    701\u001b[0m         )\n\u001b[1;32m    702\u001b[0m \u001b[0;34m\u001b[0m\u001b[0m\n",
      "\u001b[0;32m/opt/anaconda3/lib/python3.7/site-packages/seaborn/relational.py\u001b[0m in \u001b[0;36mestablish_variables\u001b[0;34m(self, x, y, hue, size, style, units, data)\u001b[0m\n\u001b[1;32m    140\u001b[0m                 \u001b[0;32mif\u001b[0m \u001b[0misinstance\u001b[0m\u001b[0;34m(\u001b[0m\u001b[0mvar\u001b[0m\u001b[0;34m,\u001b[0m \u001b[0mstr\u001b[0m\u001b[0;34m)\u001b[0m\u001b[0;34m:\u001b[0m\u001b[0;34m\u001b[0m\u001b[0;34m\u001b[0m\u001b[0m\n\u001b[1;32m    141\u001b[0m                     \u001b[0merr\u001b[0m \u001b[0;34m=\u001b[0m \u001b[0;34m\"Could not interpret input '{}'\"\u001b[0m\u001b[0;34m.\u001b[0m\u001b[0mformat\u001b[0m\u001b[0;34m(\u001b[0m\u001b[0mvar\u001b[0m\u001b[0;34m)\u001b[0m\u001b[0;34m\u001b[0m\u001b[0;34m\u001b[0m\u001b[0m\n\u001b[0;32m--> 142\u001b[0;31m                     \u001b[0;32mraise\u001b[0m \u001b[0mValueError\u001b[0m\u001b[0;34m(\u001b[0m\u001b[0merr\u001b[0m\u001b[0;34m)\u001b[0m\u001b[0;34m\u001b[0m\u001b[0;34m\u001b[0m\u001b[0m\n\u001b[0m\u001b[1;32m    143\u001b[0m \u001b[0;34m\u001b[0m\u001b[0m\n\u001b[1;32m    144\u001b[0m             \u001b[0;31m# Extract variable names\u001b[0m\u001b[0;34m\u001b[0m\u001b[0;34m\u001b[0m\u001b[0;34m\u001b[0m\u001b[0m\n",
      "\u001b[0;31mValueError\u001b[0m: Could not interpret input 'Surgery Evolution'"
     ]
    }
   ],
   "source": [
    "\n",
    "g = sns.lineplot(x='Surgery Evolution', y='Body Mass Index kg.m$^{-2}$',sort=False, hue='ReiholdsNadirC2',style = 'ReiholdsNadirC2' , palette='Set2', err_style=None,dashes = False, data=BMI3,   markers=True)\n",
    "g.legend(bbox_to_anchor=(0.75, 0.75), ncol=1)\n",
    "\n",
    "plt.xticks(rotation=70)\n",
    "plt.axhline(35, ls='--')\n",
    "sns.despine()\n",
    "\n",
    "plt.savefig('EvolutionSurgeryReinholdC2_1.png', orientation = 'landscape', bbox_inches = 'tight', dpi=900)\n",
    "plt.savefig('EvolutionSurgeryReinholdC2_1.pdf', orientation = 'landscape', bbox_inches = 'tight', dpi=1200)"
   ]
  },
  {
   "cell_type": "code",
   "execution_count": null,
   "metadata": {},
   "outputs": [],
   "source": [
    "\n",
    "g = sns.lineplot(x='Surgery Evolution', y='Body Mass Index kg.m$^{-2}$',sort=False, hue='ReiholdsNadirC2',style = 'ReiholdsNadirC2' , palette='Set2', err_style='bars',dashes = False, data=BMI3,   markers=True)\n",
    "g.legend(bbox_to_anchor=(0.75, 0.75), ncol=1)\n",
    "\n",
    "plt.xticks(rotation=70)\n",
    "plt.axhline(35, ls='--')\n",
    "sns.despine()\n",
    "\n",
    "plt.savefig('EvolutionSurgeryReinholdC2_2.png', orientation = 'landscape', bbox_inches = 'tight', dpi=900)\n",
    "plt.savefig('EvolutionSurgeryReinholdC2_2.pdf', orientation = 'landscape', bbox_inches = 'tight', dpi=1200)"
   ]
  },
  {
   "cell_type": "code",
   "execution_count": 7,
   "metadata": {},
   "outputs": [
    {
     "data": {
      "image/png": "[encoded data removed]",
      "text/plain": [
       "<Figure size 432x288 with 1 Axes>"
      ]
     },
     "metadata": {
      "needs_background": "light"
     },
     "output_type": "display_data"
    }
   ],
   "source": [
    "sns.set_style({'font.family':'serif', 'font.serif':'Times New Roman'})\n",
    "g = sns.lineplot(x='BMI evolution during successive bariatric procedures', y='Body Mass Index kg.m$^{-2}$',sort=False, hue='ReiholdsNadirC2',style = 'ReiholdsNadirC2' , palette='Set1', dashes = False, data=BMI3,   markers=True)\n",
    "g.legend(bbox_to_anchor=(0.75, 0.77), ncol=1, labels=('Failure','Success'), title = \"Weight loss results at nadir S2 \\n(according to Reinhold’s criteria)\" )\n",
    "\n",
    "plt.xticks(rotation=70)\n",
    "plt.axhline(35, ls='--', color = 'grey', alpha = 0.5)\n",
    "sns.despine()\n",
    "\n",
    "plt.savefig('EvolutionSurgeryReinholdC2_Finale.tiff', orientation = 'landscape', bbox_inches = 'tight', dpi=1000)\n",
    "plt.savefig('EvolutionSurgeryReinholdC2_Finale.pdf', orientation = 'landscape', bbox_inches = 'tight', dpi=1200)"
   ]
  },
  {
   "cell_type": "code",
   "execution_count": 8,
   "metadata": {},
   "outputs": [
    {
     "data": {
      "image/png": "[encoded data removed]",
      "text/plain": [
       "<Figure size 432x288 with 1 Axes>"
      ]
     },
     "metadata": {
      "needs_background": "light"
     },
     "output_type": "display_data"
    }
   ],
   "source": [
    "sns.set_style({'font.family':'serif', 'font.serif':'Times New Roman'})\n",
    "g = sns.lineplot(x='BMI evolution during successive bariatric procedures', y='Body Mass Index kg.m$^{-2}$',sort=False, hue='ReiholdsNadirC2',style = 'ReiholdsNadirC2' , palette='Set1', dashes = False, data=BMI3,   markers=True)\n",
    "g.legend(bbox_to_anchor=(0.75, 0.77), ncol=1, labels=('Failure','Success'), title = \"Weight loss results at nadir S2 \\n(according to Reinhold’s criteria)\" )\n",
    "g.set(ylim=(15,75))\n",
    "\n",
    "plt.xticks(rotation=70)\n",
    "plt.axhline(35, ls='--', color = 'grey', alpha = 0.5)\n",
    "sns.despine()\n",
    "\n",
    "plt.savefig('EvolutionSurgeryReinholdC2_2.tiff', orientation = 'landscape', bbox_inches = 'tight', dpi=1000)\n",
    "plt.savefig('EvolutionSurgeryReinholdC2_2.pdf', orientation = 'landscape', bbox_inches = 'tight', dpi=1200)"
   ]
  },
  {
   "cell_type": "code",
   "execution_count": null,
   "metadata": {},
   "outputs": [],
   "source": [
    "\n",
    "g = sns.lineplot(x='BMI evolution along bariatric procedures', y='Body Mass Index kg.m$^{-2}$',sort=False, hue='ReiholdsNadirC2',style = 'ReiholdsNadirC2' , palette='Set1', dashes = False, data=BMI3,  err_style=None, markers=True)\n",
    "g.legend(bbox_to_anchor=(0.75, 0.77), ncol=1, labels=('Failure','Success'), title = \"Weight loss results at nadir S2 \\n(according to Rheinold’s criteria)\" )\n",
    "\n",
    "plt.xticks(rotation=70)\n",
    "plt.axhline(35, ls='--', color = 'grey', alpha = 0.5)\n",
    "sns.despine()\n",
    "\n",
    "plt.savefig('EvolutionSurgeryReinholdC2_2.png', orientation = 'landscape', bbox_inches = 'tight', dpi=900)\n",
    "plt.savefig('EvolutionSurgeryReinholdC2_2.pdf', orientation = 'landscape', bbox_inches = 'tight', dpi=1200)"
   ]
  },
  {
   "cell_type": "code",
   "execution_count": null,
   "metadata": {},
   "outputs": [],
   "source": [
    "\n",
    "g = sns.lineplot(x='BMI evolution along bariatric procedures', y='Body Mass Index kg.m$^{-2}$',sort=False, hue='ReiholdsNadirC2',style = 'ReiholdsNadirC2' , palette='Set1', dashes = False, data=BMI3,  err_style='bars', markers=True)\n",
    "g.legend(bbox_to_anchor=(0.75, 0.77), ncol=1, labels=('Failure','Success'), title = \"Weight loss results at nadir S2 \\n(according to Rheinold’s criteria)\" )\n",
    "\n",
    "plt.xticks(rotation=70)\n",
    "plt.axhline(35, ls='--', color = 'grey', alpha = 0.5)\n",
    "sns.despine()\n",
    "\n",
    "plt.savefig('EvolutionSurgeryReinholdC2_3.png', orientation = 'landscape', bbox_inches = 'tight', dpi=900)\n",
    "plt.savefig('EvolutionSurgeryReinholdC2_3.pdf', orientation = 'landscape', bbox_inches = 'tight', dpi=1200)"
   ]
  },
  {
   "cell_type": "code",
   "execution_count": null,
   "metadata": {},
   "outputs": [],
   "source": [
    "\n",
    "g = sns.lineplot(x='BMI evolution along bariatric procedures', y='Body Mass Index kg.m$^{-2}$',sort=False, hue='ReiholdsNadirC2',style = 'ReiholdsNadirC2' , palette='Set1', dashes = False, data=BMI4,   markers=True)\n",
    "g.legend(bbox_to_anchor=(0.75, 0.77), ncol=1, labels=('Failure','Success'), title = \"Weight loss results at nadir S2 \\n(according to Rheinold’s criteria)\" )\n",
    "\n",
    "plt.xticks(rotation=70)\n",
    "plt.axhline(35, ls='--', color = 'grey', alpha = 0.5)\n",
    "sns.despine()\n",
    "\n",
    "plt.savefig('EvolutionSurgeryReinholdC2_3.png', orientation = 'landscape', bbox_inches = 'tight', dpi=900)\n",
    "plt.savefig('EvolutionSurgeryReinholdC2_3.pdf', orientation = 'landscape', bbox_inches = 'tight', dpi=1200)"
   ]
  },
  {
   "cell_type": "code",
   "execution_count": null,
   "metadata": {},
   "outputs": [],
   "source": []
  },
  {
   "cell_type": "code",
   "execution_count": null,
   "metadata": {},
   "outputs": [],
   "source": []
  }
 ],
 "metadata": {
  "kernelspec": {
   "display_name": "Python 3",
   "language": "python",
   "name": "python3"
  },
  "language_info": {
   "codemirror_mode": {
    "name": "ipython",
    "version": 3
   },
   "file_extension": ".py",
   "mimetype": "text/x-python",
   "name": "python",
   "nbconvert_exporter": "python",
   "pygments_lexer": "ipython3",
   "version": "3.7.6"
  }
 },
 "nbformat": 4,
 "nbformat_minor": 4
}
