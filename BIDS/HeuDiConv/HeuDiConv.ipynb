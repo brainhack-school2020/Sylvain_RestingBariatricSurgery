{
 "cells": [
  {
   "cell_type": "code",
   "execution_count": 24,
   "metadata": {},
   "outputs": [
    {
     "name": "stdout",
     "output_type": "stream",
     "text": [
      ".\t\t\t.ipynb_checkpoints\tHeuDiConv.ipynb\n",
      "..\t\t\tBIDS\t\t\tNIFTI\n",
      ".DS_Store\t\tDICOM\t\t\treproin.py\n"
     ]
    }
   ],
   "source": [
    "ls -a\n"
   ]
  },
  {
   "cell_type": "code",
   "execution_count": 2,
   "metadata": {},
   "outputs": [
    {
     "name": "stdout",
     "output_type": "stream",
     "text": [
      "WARNING: Nothing to be done - displaying usage help\n",
      "usage: heudiconv [-h] [--version]\n",
      "                 [-d DICOM_DIR_TEMPLATE | --files [FILES [FILES ...]]]\n",
      "                 [-s [SUBJS [SUBJS ...]]] [-c {dcm2niix,none}] [-o OUTDIR]\n",
      "                 [-l LOCATOR] [-a CONV_OUTDIR] [--anon-cmd ANON_CMD]\n",
      "                 [-f HEURISTIC] [-p] [-ss SESSION]\n",
      "                 [-b [BIDSOPTION1 [BIDSOPTION2 ...]]] [--overwrite]\n",
      "                 [--datalad] [--dbg]\n",
      "                 [--command {heuristics,heuristic-info,ls,populate-templates,sanitize-jsons,treat-jsons}]\n",
      "                 [-g {studyUID,accession_number,all,custom}] [--minmeta]\n",
      "                 [--random-seed RANDOM_SEED] [--dcmconfig DCMCONFIG]\n",
      "                 [-q {SLURM,None}] [--queue-args QUEUE_ARGS]\n",
      "\n",
      "Example: heudiconv -d 'rawdata/{subject}' -o . -f heuristic.py -s s1 s2 s3\n",
      "\n",
      "optional arguments:\n",
      "  -h, --help            show this help message and exit\n",
      "  --version             show program's version number and exit\n",
      "  -d DICOM_DIR_TEMPLATE, --dicom_dir_template DICOM_DIR_TEMPLATE\n",
      "                        location of dicomdir that can be indexed with subject\n",
      "                        id {subject} and session {session}. Tarballs (can be\n",
      "                        compressed) are supported in addition to directory.\n",
      "                        All matching tarballs for a subject are extracted and\n",
      "                        their content processed in a single pass. If multiple\n",
      "                        tarballs are found, each is assumed to be a separate\n",
      "                        session and the --ses argument is ignored. Note that\n",
      "                        you might need to surround the value with quotes to\n",
      "                        avoid {...} being considered by shell\n",
      "  --files [FILES [FILES ...]]\n",
      "                        Files (tarballs, dicoms) or directories containing\n",
      "                        files to process. Cannot be provided if using\n",
      "                        --dicom_dir_template.\n",
      "  -s [SUBJS [SUBJS ...]], --subjects [SUBJS [SUBJS ...]]\n",
      "                        list of subjects - required for dicom template. If not\n",
      "                        provided, DICOMS would first be \"sorted\" and subject\n",
      "                        IDs deduced by the heuristic\n",
      "  -c {dcm2niix,none}, --converter {dcm2niix,none}\n",
      "                        tool to use for DICOM conversion. Setting to \"none\"\n",
      "                        disables the actual conversion step -- usefulfor\n",
      "                        testing heuristics.\n",
      "  -o OUTDIR, --outdir OUTDIR\n",
      "                        output directory for conversion setup (for further\n",
      "                        customization and future reference. This directory\n",
      "                        will refer to non-anonymized subject IDs\n",
      "  -l LOCATOR, --locator LOCATOR\n",
      "                        study path under outdir. If provided, it overloads the\n",
      "                        value provided by the heuristic. If --datalad is\n",
      "                        enabled, every directory within locator becomes a\n",
      "                        super-dataset thus establishing a hierarchy. Setting\n",
      "                        to \"unknown\" will skip that dataset\n",
      "  -a CONV_OUTDIR, --conv-outdir CONV_OUTDIR\n",
      "                        output directory for converted files. By default this\n",
      "                        is identical to --outdir. This option is most useful\n",
      "                        in combination with --anon-cmd\n",
      "  --anon-cmd ANON_CMD   command to run to convert subject IDs used for DICOMs\n",
      "                        to anonymized IDs. Such command must take a single\n",
      "                        argument and return a single anonymized ID. Also see\n",
      "                        --conv-outdir\n",
      "  -f HEURISTIC, --heuristic HEURISTIC\n",
      "                        Name of a known heuristic or path to the Pythonscript\n",
      "                        containing heuristic\n",
      "  -p, --with-prov       Store additional provenance information. Requires\n",
      "                        python-rdflib.\n",
      "  -ss SESSION, --ses SESSION\n",
      "                        session for longitudinal study_sessions, default is\n",
      "                        none\n",
      "  -b [BIDSOPTION1 [BIDSOPTION2 ...]], --bids [BIDSOPTION1 [BIDSOPTION2 ...]]\n",
      "                        flag for output into BIDS structure. Can also take\n",
      "                        bids specific options, e.g., --bids notop.The only\n",
      "                        currently supported options is\"notop\", which skips\n",
      "                        creation of top-level bids files. This is useful when\n",
      "                        running in batch mode to prevent possible race\n",
      "                        conditions.\n",
      "  --overwrite           flag to allow overwriting existing converted files\n",
      "  --datalad             Store the entire collection as DataLad dataset(s).\n",
      "                        Small files will be committed directly to git, while\n",
      "                        large to annex. New version (6) of annex repositories\n",
      "                        will be used in a \"thin\" mode so it would look to\n",
      "                        mortals as just any other regular directory (i.e. no\n",
      "                        symlinks to under .git/annex). For now just for BIDS\n",
      "                        mode.\n",
      "  --dbg                 Do not catch exceptions and show exception traceback\n",
      "  --command {heuristics,heuristic-info,ls,populate-templates,sanitize-jsons,treat-jsons}\n",
      "                        custom actions to be performed on provided files\n",
      "                        instead of regular operation.\n",
      "  -g {studyUID,accession_number,all,custom}, --grouping {studyUID,accession_number,all,custom}\n",
      "                        How to group dicoms (default: by studyUID)\n",
      "  --minmeta             Exclude dcmstack meta information in sidecar jsons\n",
      "  --random-seed RANDOM_SEED\n",
      "                        Random seed to initialize RNG\n",
      "  --dcmconfig DCMCONFIG\n",
      "                        JSON file for additional dcm2niix configuration\n",
      "\n",
      "Conversion submission options:\n",
      "  -q {SLURM,None}, --queue {SLURM,None}\n",
      "                        batch system to submit jobs in parallel\n",
      "  --queue-args QUEUE_ARGS\n",
      "                        Additional queue arguments passed as single string of\n",
      "                        Argument=Value pairs space separated.\n"
     ]
    },
    {
     "ename": "",
     "evalue": "1",
     "output_type": "error",
     "traceback": []
    }
   ],
   "source": [
    "docker run --rm -it -v /Users/sylvainiceta/Documents/NouveauxScan/DICOM:/data:ro -v /Users/sylvainiceta/Documents/NouveauxScan/BIDS:/output nipy/heudiconv:latest\n"
   ]
  },
  {
   "cell_type": "code",
   "execution_count": 22,
   "metadata": {},
   "outputs": [
    {
     "name": "stdout",
     "output_type": "stream",
     "text": [
      "INFO: Running heudiconv version 0.8.0 latest 0.8.0\n",
      "INFO: Need to process 0 study sessions\n"
     ]
    }
   ],
   "source": [
    "docker run --rm -it -v /Users/sylvainiceta/Documents/NouveauxScan/DICOM:/data:ro -v /Users/sylvainiceta/Documents/NouveauxScan/BIDS:/output nipy/heudiconv:latest \\\n",
    "-d /data/{subject}/{session}/*.dcm -s 'RCX219_20202020' -ss 001 -c none -f convertall -o /output"
   ]
  },
  {
   "cell_type": "code",
   "execution_count": null,
   "metadata": {},
   "outputs": [],
   "source": []
  }
 ],
 "metadata": {
  "kernelspec": {
   "display_name": "Bash",
   "language": "bash",
   "name": "bash"
  },
  "language_info": {
   "codemirror_mode": "shell",
   "file_extension": ".sh",
   "mimetype": "text/x-sh",
   "name": "bash"
  }
 },
 "nbformat": 4,
 "nbformat_minor": 4
}
